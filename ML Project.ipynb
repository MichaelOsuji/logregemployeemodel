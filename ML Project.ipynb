{
 "cells": [
  {
   "cell_type": "markdown",
   "id": "9dec0bcc-6a9e-4bed-85be-f8a677cb8f9a",
   "metadata": {},
   "source": [
    "# Employee Churn Prediction model"
   ]
  },
  {
   "cell_type": "code",
   "execution_count": 16,
   "id": "f4a0b57a-e5a4-4a9d-8fb3-832c82030e5d",
   "metadata": {},
   "outputs": [],
   "source": [
    "#Importing relevant libraries\n",
    "import numpy as np\n",
    "import pandas as pd\n",
    "import seaborn as sn\n",
    "import matplotlib.pyplot as plt"
   ]
  },
  {
   "cell_type": "code",
   "execution_count": null,
   "id": "a1099f6b-4690-4bf1-94dd-9f65590caedb",
   "metadata": {},
   "outputs": [],
   "source": []
  },
  {
   "cell_type": "code",
   "execution_count": 17,
   "id": "e1f97521-fac6-47a9-b0f3-a7d940d0525a",
   "metadata": {},
   "outputs": [
    {
     "data": {
      "text/html": [
       "<div>\n",
       "<style scoped>\n",
       "    .dataframe tbody tr th:only-of-type {\n",
       "        vertical-align: middle;\n",
       "    }\n",
       "\n",
       "    .dataframe tbody tr th {\n",
       "        vertical-align: top;\n",
       "    }\n",
       "\n",
       "    .dataframe thead th {\n",
       "        text-align: right;\n",
       "    }\n",
       "</style>\n",
       "<table border=\"1\" class=\"dataframe\">\n",
       "  <thead>\n",
       "    <tr style=\"text-align: right;\">\n",
       "      <th></th>\n",
       "      <th>Age</th>\n",
       "      <th>PastEmployee</th>\n",
       "      <th>BusinessTravel</th>\n",
       "      <th>Department</th>\n",
       "      <th>DistanceFromHome</th>\n",
       "      <th>Education</th>\n",
       "      <th>EducationField</th>\n",
       "      <th>EnvironmentSatisfaction</th>\n",
       "      <th>Gender</th>\n",
       "      <th>JobInvolvement</th>\n",
       "      <th>...</th>\n",
       "      <th>PercentSalaryHike</th>\n",
       "      <th>PerformanceRating</th>\n",
       "      <th>StockOptionLevel</th>\n",
       "      <th>TotalWorkingYears</th>\n",
       "      <th>TrainingTimesLastYear</th>\n",
       "      <th>WorkLifeBalance</th>\n",
       "      <th>YearsAtCompany</th>\n",
       "      <th>YearsInCurrentRole</th>\n",
       "      <th>YearsSinceLastPromotion</th>\n",
       "      <th>YearsWithCurrManager</th>\n",
       "    </tr>\n",
       "  </thead>\n",
       "  <tbody>\n",
       "    <tr>\n",
       "      <th>0</th>\n",
       "      <td>46</td>\n",
       "      <td>No</td>\n",
       "      <td>Travel_Rarely</td>\n",
       "      <td>Human Resources</td>\n",
       "      <td>5</td>\n",
       "      <td>2</td>\n",
       "      <td>Medical</td>\n",
       "      <td>2</td>\n",
       "      <td>Male</td>\n",
       "      <td>3</td>\n",
       "      <td>...</td>\n",
       "      <td>22</td>\n",
       "      <td>4</td>\n",
       "      <td>1</td>\n",
       "      <td>16</td>\n",
       "      <td>2</td>\n",
       "      <td>3</td>\n",
       "      <td>4</td>\n",
       "      <td>2</td>\n",
       "      <td>0</td>\n",
       "      <td>2</td>\n",
       "    </tr>\n",
       "    <tr>\n",
       "      <th>1</th>\n",
       "      <td>37</td>\n",
       "      <td>Yes</td>\n",
       "      <td>Travel_Rarely</td>\n",
       "      <td>Human Resources</td>\n",
       "      <td>6</td>\n",
       "      <td>4</td>\n",
       "      <td>Human Resources</td>\n",
       "      <td>3</td>\n",
       "      <td>Male</td>\n",
       "      <td>3</td>\n",
       "      <td>...</td>\n",
       "      <td>22</td>\n",
       "      <td>4</td>\n",
       "      <td>0</td>\n",
       "      <td>7</td>\n",
       "      <td>3</td>\n",
       "      <td>3</td>\n",
       "      <td>3</td>\n",
       "      <td>2</td>\n",
       "      <td>0</td>\n",
       "      <td>2</td>\n",
       "    </tr>\n",
       "    <tr>\n",
       "      <th>2</th>\n",
       "      <td>59</td>\n",
       "      <td>No</td>\n",
       "      <td>Non-Travel</td>\n",
       "      <td>Human Resources</td>\n",
       "      <td>2</td>\n",
       "      <td>4</td>\n",
       "      <td>Human Resources</td>\n",
       "      <td>3</td>\n",
       "      <td>Female</td>\n",
       "      <td>2</td>\n",
       "      <td>...</td>\n",
       "      <td>21</td>\n",
       "      <td>4</td>\n",
       "      <td>1</td>\n",
       "      <td>30</td>\n",
       "      <td>3</td>\n",
       "      <td>3</td>\n",
       "      <td>3</td>\n",
       "      <td>2</td>\n",
       "      <td>2</td>\n",
       "      <td>2</td>\n",
       "    </tr>\n",
       "    <tr>\n",
       "      <th>3</th>\n",
       "      <td>54</td>\n",
       "      <td>No</td>\n",
       "      <td>Non-Travel</td>\n",
       "      <td>Human Resources</td>\n",
       "      <td>26</td>\n",
       "      <td>3</td>\n",
       "      <td>Human Resources</td>\n",
       "      <td>4</td>\n",
       "      <td>Female</td>\n",
       "      <td>4</td>\n",
       "      <td>...</td>\n",
       "      <td>12</td>\n",
       "      <td>3</td>\n",
       "      <td>0</td>\n",
       "      <td>23</td>\n",
       "      <td>3</td>\n",
       "      <td>3</td>\n",
       "      <td>5</td>\n",
       "      <td>3</td>\n",
       "      <td>4</td>\n",
       "      <td>4</td>\n",
       "    </tr>\n",
       "    <tr>\n",
       "      <th>4</th>\n",
       "      <td>26</td>\n",
       "      <td>No</td>\n",
       "      <td>Travel_Rarely</td>\n",
       "      <td>Human Resources</td>\n",
       "      <td>25</td>\n",
       "      <td>1</td>\n",
       "      <td>Life Sciences</td>\n",
       "      <td>3</td>\n",
       "      <td>Female</td>\n",
       "      <td>3</td>\n",
       "      <td>...</td>\n",
       "      <td>23</td>\n",
       "      <td>4</td>\n",
       "      <td>1</td>\n",
       "      <td>8</td>\n",
       "      <td>3</td>\n",
       "      <td>3</td>\n",
       "      <td>8</td>\n",
       "      <td>7</td>\n",
       "      <td>5</td>\n",
       "      <td>7</td>\n",
       "    </tr>\n",
       "    <tr>\n",
       "      <th>...</th>\n",
       "      <td>...</td>\n",
       "      <td>...</td>\n",
       "      <td>...</td>\n",
       "      <td>...</td>\n",
       "      <td>...</td>\n",
       "      <td>...</td>\n",
       "      <td>...</td>\n",
       "      <td>...</td>\n",
       "      <td>...</td>\n",
       "      <td>...</td>\n",
       "      <td>...</td>\n",
       "      <td>...</td>\n",
       "      <td>...</td>\n",
       "      <td>...</td>\n",
       "      <td>...</td>\n",
       "      <td>...</td>\n",
       "      <td>...</td>\n",
       "      <td>...</td>\n",
       "      <td>...</td>\n",
       "      <td>...</td>\n",
       "      <td>...</td>\n",
       "    </tr>\n",
       "    <tr>\n",
       "      <th>1465</th>\n",
       "      <td>45</td>\n",
       "      <td>No</td>\n",
       "      <td>Travel_Rarely</td>\n",
       "      <td>Sales</td>\n",
       "      <td>20</td>\n",
       "      <td>3</td>\n",
       "      <td>Life Sciences</td>\n",
       "      <td>4</td>\n",
       "      <td>Female</td>\n",
       "      <td>3</td>\n",
       "      <td>...</td>\n",
       "      <td>15</td>\n",
       "      <td>3</td>\n",
       "      <td>0</td>\n",
       "      <td>8</td>\n",
       "      <td>3</td>\n",
       "      <td>3</td>\n",
       "      <td>5</td>\n",
       "      <td>3</td>\n",
       "      <td>0</td>\n",
       "      <td>1</td>\n",
       "    </tr>\n",
       "    <tr>\n",
       "      <th>1466</th>\n",
       "      <td>50</td>\n",
       "      <td>Yes</td>\n",
       "      <td>Travel_Rarely</td>\n",
       "      <td>Sales</td>\n",
       "      <td>28</td>\n",
       "      <td>3</td>\n",
       "      <td>Marketing</td>\n",
       "      <td>4</td>\n",
       "      <td>Male</td>\n",
       "      <td>2</td>\n",
       "      <td>...</td>\n",
       "      <td>13</td>\n",
       "      <td>3</td>\n",
       "      <td>1</td>\n",
       "      <td>20</td>\n",
       "      <td>3</td>\n",
       "      <td>3</td>\n",
       "      <td>3</td>\n",
       "      <td>2</td>\n",
       "      <td>2</td>\n",
       "      <td>0</td>\n",
       "    </tr>\n",
       "    <tr>\n",
       "      <th>1467</th>\n",
       "      <td>39</td>\n",
       "      <td>No</td>\n",
       "      <td>Travel_Rarely</td>\n",
       "      <td>Sales</td>\n",
       "      <td>24</td>\n",
       "      <td>1</td>\n",
       "      <td>Marketing</td>\n",
       "      <td>2</td>\n",
       "      <td>Female</td>\n",
       "      <td>2</td>\n",
       "      <td>...</td>\n",
       "      <td>11</td>\n",
       "      <td>3</td>\n",
       "      <td>1</td>\n",
       "      <td>21</td>\n",
       "      <td>2</td>\n",
       "      <td>2</td>\n",
       "      <td>20</td>\n",
       "      <td>9</td>\n",
       "      <td>9</td>\n",
       "      <td>6</td>\n",
       "    </tr>\n",
       "    <tr>\n",
       "      <th>1468</th>\n",
       "      <td>26</td>\n",
       "      <td>No</td>\n",
       "      <td>Travel_Rarely</td>\n",
       "      <td>Sales</td>\n",
       "      <td>5</td>\n",
       "      <td>3</td>\n",
       "      <td>Other</td>\n",
       "      <td>4</td>\n",
       "      <td>Female</td>\n",
       "      <td>2</td>\n",
       "      <td>...</td>\n",
       "      <td>18</td>\n",
       "      <td>3</td>\n",
       "      <td>0</td>\n",
       "      <td>5</td>\n",
       "      <td>2</td>\n",
       "      <td>3</td>\n",
       "      <td>4</td>\n",
       "      <td>2</td>\n",
       "      <td>0</td>\n",
       "      <td>0</td>\n",
       "    </tr>\n",
       "    <tr>\n",
       "      <th>1469</th>\n",
       "      <td>49</td>\n",
       "      <td>No</td>\n",
       "      <td>Travel_Frequently</td>\n",
       "      <td>Sales</td>\n",
       "      <td>2</td>\n",
       "      <td>3</td>\n",
       "      <td>Medical</td>\n",
       "      <td>4</td>\n",
       "      <td>Male</td>\n",
       "      <td>2</td>\n",
       "      <td>...</td>\n",
       "      <td>14</td>\n",
       "      <td>3</td>\n",
       "      <td>0</td>\n",
       "      <td>17</td>\n",
       "      <td>3</td>\n",
       "      <td>2</td>\n",
       "      <td>9</td>\n",
       "      <td>6</td>\n",
       "      <td>0</td>\n",
       "      <td>8</td>\n",
       "    </tr>\n",
       "  </tbody>\n",
       "</table>\n",
       "<p>1470 rows × 27 columns</p>\n",
       "</div>"
      ],
      "text/plain": [
       "      Age PastEmployee     BusinessTravel       Department  DistanceFromHome  \\\n",
       "0      46           No      Travel_Rarely  Human Resources                 5   \n",
       "1      37          Yes      Travel_Rarely  Human Resources                 6   \n",
       "2      59           No         Non-Travel  Human Resources                 2   \n",
       "3      54           No         Non-Travel  Human Resources                26   \n",
       "4      26           No      Travel_Rarely  Human Resources                25   \n",
       "...   ...          ...                ...              ...               ...   \n",
       "1465   45           No      Travel_Rarely            Sales                20   \n",
       "1466   50          Yes      Travel_Rarely            Sales                28   \n",
       "1467   39           No      Travel_Rarely            Sales                24   \n",
       "1468   26           No      Travel_Rarely            Sales                 5   \n",
       "1469   49           No  Travel_Frequently            Sales                 2   \n",
       "\n",
       "      Education   EducationField  EnvironmentSatisfaction  Gender  \\\n",
       "0             2          Medical                        2    Male   \n",
       "1             4  Human Resources                        3    Male   \n",
       "2             4  Human Resources                        3  Female   \n",
       "3             3  Human Resources                        4  Female   \n",
       "4             1    Life Sciences                        3  Female   \n",
       "...         ...              ...                      ...     ...   \n",
       "1465          3    Life Sciences                        4  Female   \n",
       "1466          3        Marketing                        4    Male   \n",
       "1467          1        Marketing                        2  Female   \n",
       "1468          3            Other                        4  Female   \n",
       "1469          3          Medical                        4    Male   \n",
       "\n",
       "      JobInvolvement  ...  PercentSalaryHike PerformanceRating  \\\n",
       "0                  3  ...                 22                 4   \n",
       "1                  3  ...                 22                 4   \n",
       "2                  2  ...                 21                 4   \n",
       "3                  4  ...                 12                 3   \n",
       "4                  3  ...                 23                 4   \n",
       "...              ...  ...                ...               ...   \n",
       "1465               3  ...                 15                 3   \n",
       "1466               2  ...                 13                 3   \n",
       "1467               2  ...                 11                 3   \n",
       "1468               2  ...                 18                 3   \n",
       "1469               2  ...                 14                 3   \n",
       "\n",
       "      StockOptionLevel TotalWorkingYears  TrainingTimesLastYear  \\\n",
       "0                    1                16                      2   \n",
       "1                    0                 7                      3   \n",
       "2                    1                30                      3   \n",
       "3                    0                23                      3   \n",
       "4                    1                 8                      3   \n",
       "...                ...               ...                    ...   \n",
       "1465                 0                 8                      3   \n",
       "1466                 1                20                      3   \n",
       "1467                 1                21                      2   \n",
       "1468                 0                 5                      2   \n",
       "1469                 0                17                      3   \n",
       "\n",
       "      WorkLifeBalance YearsAtCompany  YearsInCurrentRole  \\\n",
       "0                   3              4                   2   \n",
       "1                   3              3                   2   \n",
       "2                   3              3                   2   \n",
       "3                   3              5                   3   \n",
       "4                   3              8                   7   \n",
       "...               ...            ...                 ...   \n",
       "1465                3              5                   3   \n",
       "1466                3              3                   2   \n",
       "1467                2             20                   9   \n",
       "1468                3              4                   2   \n",
       "1469                2              9                   6   \n",
       "\n",
       "      YearsSinceLastPromotion  YearsWithCurrManager  \n",
       "0                           0                     2  \n",
       "1                           0                     2  \n",
       "2                           2                     2  \n",
       "3                           4                     4  \n",
       "4                           5                     7  \n",
       "...                       ...                   ...  \n",
       "1465                        0                     1  \n",
       "1466                        2                     0  \n",
       "1467                        9                     6  \n",
       "1468                        0                     0  \n",
       "1469                        0                     8  \n",
       "\n",
       "[1470 rows x 27 columns]"
      ]
     },
     "execution_count": 17,
     "metadata": {},
     "output_type": "execute_result"
    }
   ],
   "source": [
    "# Reading the data into the environment\n",
    "df = pd.read_csv(r'C:\\Users\\mosuj\\Downloads\\ChurnPrediction.csv')\n",
    "df"
   ]
  },
  {
   "cell_type": "code",
   "execution_count": null,
   "id": "20505739-64de-43ef-86ab-c203e3a345d3",
   "metadata": {},
   "outputs": [],
   "source": []
  },
  {
   "cell_type": "markdown",
   "id": "e5a9bbf4-363f-439e-9ded-f60f8281d360",
   "metadata": {},
   "source": [
    "## Data Exploration"
   ]
  },
  {
   "cell_type": "code",
   "execution_count": 18,
   "id": "e9fcbf31-bed5-4024-8430-fd40ec17aa74",
   "metadata": {},
   "outputs": [
    {
     "name": "stdout",
     "output_type": "stream",
     "text": [
      "<class 'pandas.core.frame.DataFrame'>\n",
      "RangeIndex: 1470 entries, 0 to 1469\n",
      "Data columns (total 27 columns):\n",
      " #   Column                   Non-Null Count  Dtype \n",
      "---  ------                   --------------  ----- \n",
      " 0   Age                      1470 non-null   int64 \n",
      " 1   PastEmployee             1470 non-null   object\n",
      " 2   BusinessTravel           1470 non-null   object\n",
      " 3   Department               1470 non-null   object\n",
      " 4   DistanceFromHome         1470 non-null   int64 \n",
      " 5   Education                1470 non-null   int64 \n",
      " 6   EducationField           1470 non-null   object\n",
      " 7   EnvironmentSatisfaction  1470 non-null   int64 \n",
      " 8   Gender                   1470 non-null   object\n",
      " 9   JobInvolvement           1470 non-null   int64 \n",
      " 10  JobLevel                 1470 non-null   int64 \n",
      " 11  JobRole                  1470 non-null   object\n",
      " 12  JobSatisfaction          1470 non-null   int64 \n",
      " 13  MaritalStatus            1470 non-null   object\n",
      " 14  MonthlyIncome            1470 non-null   int64 \n",
      " 15  NumCompaniesWorked       1470 non-null   int64 \n",
      " 16  OverTime                 1470 non-null   object\n",
      " 17  PercentSalaryHike        1470 non-null   int64 \n",
      " 18  PerformanceRating        1470 non-null   int64 \n",
      " 19  StockOptionLevel         1470 non-null   int64 \n",
      " 20  TotalWorkingYears        1470 non-null   int64 \n",
      " 21  TrainingTimesLastYear    1470 non-null   int64 \n",
      " 22  WorkLifeBalance          1470 non-null   int64 \n",
      " 23  YearsAtCompany           1470 non-null   int64 \n",
      " 24  YearsInCurrentRole       1470 non-null   int64 \n",
      " 25  YearsSinceLastPromotion  1470 non-null   int64 \n",
      " 26  YearsWithCurrManager     1470 non-null   int64 \n",
      "dtypes: int64(19), object(8)\n",
      "memory usage: 310.2+ KB\n"
     ]
    }
   ],
   "source": [
    "df.info()"
   ]
  },
  {
   "cell_type": "code",
   "execution_count": null,
   "id": "a79f79ce-c434-4e28-9347-0ad6903d5dc3",
   "metadata": {},
   "outputs": [],
   "source": []
  },
  {
   "cell_type": "code",
   "execution_count": 19,
   "id": "fa10acc2-6794-44cf-b01b-290a9c8708a8",
   "metadata": {},
   "outputs": [],
   "source": [
    "# Transforming the variables making them have similar data types\n",
    "from sklearn.preprocessing import LabelEncoder\n",
    "le = LabelEncoder()\n",
    "\n",
    "ls = ['PastEmployee', 'Department', 'BusinessTravel', 'EducationField', 'Gender', 'JobRole', 'MaritalStatus', 'OverTime']\n",
    "for col in ls:\n",
    "    df[col]=le.fit_transform(df[col])"
   ]
  },
  {
   "cell_type": "code",
   "execution_count": 20,
   "id": "ecfc4fe4-5b28-4e72-b90f-cc896dcf3442",
   "metadata": {},
   "outputs": [
    {
     "name": "stdout",
     "output_type": "stream",
     "text": [
      "<class 'pandas.core.frame.DataFrame'>\n",
      "RangeIndex: 1470 entries, 0 to 1469\n",
      "Data columns (total 27 columns):\n",
      " #   Column                   Non-Null Count  Dtype\n",
      "---  ------                   --------------  -----\n",
      " 0   Age                      1470 non-null   int64\n",
      " 1   PastEmployee             1470 non-null   int32\n",
      " 2   BusinessTravel           1470 non-null   int32\n",
      " 3   Department               1470 non-null   int32\n",
      " 4   DistanceFromHome         1470 non-null   int64\n",
      " 5   Education                1470 non-null   int64\n",
      " 6   EducationField           1470 non-null   int32\n",
      " 7   EnvironmentSatisfaction  1470 non-null   int64\n",
      " 8   Gender                   1470 non-null   int32\n",
      " 9   JobInvolvement           1470 non-null   int64\n",
      " 10  JobLevel                 1470 non-null   int64\n",
      " 11  JobRole                  1470 non-null   int32\n",
      " 12  JobSatisfaction          1470 non-null   int64\n",
      " 13  MaritalStatus            1470 non-null   int32\n",
      " 14  MonthlyIncome            1470 non-null   int64\n",
      " 15  NumCompaniesWorked       1470 non-null   int64\n",
      " 16  OverTime                 1470 non-null   int32\n",
      " 17  PercentSalaryHike        1470 non-null   int64\n",
      " 18  PerformanceRating        1470 non-null   int64\n",
      " 19  StockOptionLevel         1470 non-null   int64\n",
      " 20  TotalWorkingYears        1470 non-null   int64\n",
      " 21  TrainingTimesLastYear    1470 non-null   int64\n",
      " 22  WorkLifeBalance          1470 non-null   int64\n",
      " 23  YearsAtCompany           1470 non-null   int64\n",
      " 24  YearsInCurrentRole       1470 non-null   int64\n",
      " 25  YearsSinceLastPromotion  1470 non-null   int64\n",
      " 26  YearsWithCurrManager     1470 non-null   int64\n",
      "dtypes: int32(8), int64(19)\n",
      "memory usage: 264.3 KB\n"
     ]
    }
   ],
   "source": [
    "df.info()"
   ]
  },
  {
   "cell_type": "code",
   "execution_count": null,
   "id": "e54421fd-6aac-403b-944a-4bf98c54d74d",
   "metadata": {},
   "outputs": [],
   "source": []
  },
  {
   "cell_type": "code",
   "execution_count": 21,
   "id": "9a61ad8f-c872-4b1b-97f1-1807a2b9f19d",
   "metadata": {},
   "outputs": [
    {
     "data": {
      "text/plain": [
       "0"
      ]
     },
     "execution_count": 21,
     "metadata": {},
     "output_type": "execute_result"
    }
   ],
   "source": [
    "# Checking for duplicates\n",
    "df.duplicated().sum()"
   ]
  },
  {
   "cell_type": "code",
   "execution_count": 22,
   "id": "fa8023d0-1d20-44f4-86d5-7e93f1a3087f",
   "metadata": {},
   "outputs": [
    {
     "data": {
      "text/plain": [
       "Age                        0\n",
       "PastEmployee               0\n",
       "BusinessTravel             0\n",
       "Department                 0\n",
       "DistanceFromHome           0\n",
       "Education                  0\n",
       "EducationField             0\n",
       "EnvironmentSatisfaction    0\n",
       "Gender                     0\n",
       "JobInvolvement             0\n",
       "JobLevel                   0\n",
       "JobRole                    0\n",
       "JobSatisfaction            0\n",
       "MaritalStatus              0\n",
       "MonthlyIncome              0\n",
       "NumCompaniesWorked         0\n",
       "OverTime                   0\n",
       "PercentSalaryHike          0\n",
       "PerformanceRating          0\n",
       "StockOptionLevel           0\n",
       "TotalWorkingYears          0\n",
       "TrainingTimesLastYear      0\n",
       "WorkLifeBalance            0\n",
       "YearsAtCompany             0\n",
       "YearsInCurrentRole         0\n",
       "YearsSinceLastPromotion    0\n",
       "YearsWithCurrManager       0\n",
       "dtype: int64"
      ]
     },
     "execution_count": 22,
     "metadata": {},
     "output_type": "execute_result"
    }
   ],
   "source": [
    "# Checking for missing values\n",
    "df.isnull().sum()"
   ]
  },
  {
   "cell_type": "code",
   "execution_count": null,
   "id": "73d80d2c-c1cd-4eba-9857-56849eab2483",
   "metadata": {},
   "outputs": [],
   "source": []
  },
  {
   "cell_type": "code",
   "execution_count": 23,
   "id": "deb625da-e125-4451-8708-e323815070e1",
   "metadata": {},
   "outputs": [],
   "source": [
    "# Separating dependent variable from Independent variables\n",
    "X = df.drop(columns=['PastEmployee'])\n",
    "y = df['PastEmployee']"
   ]
  },
  {
   "cell_type": "markdown",
   "id": "a32634a0-7a13-4fe9-be65-875770e38aea",
   "metadata": {},
   "source": [
    "## Model Development"
   ]
  },
  {
   "cell_type": "code",
   "execution_count": 24,
   "id": "5019eea3-da50-48a3-928c-f644bc67db94",
   "metadata": {},
   "outputs": [],
   "source": [
    "# Spliting the data into the training and test set\n",
    "from sklearn.model_selection import train_test_split\n",
    "X_train, X_test, y_train, y_test = train_test_split(X, y, test_size = 0.25, random_state = 42)"
   ]
  },
  {
   "cell_type": "code",
   "execution_count": null,
   "id": "ffa90e83-c13a-430e-8810-20c2b6a82dab",
   "metadata": {},
   "outputs": [],
   "source": []
  },
  {
   "cell_type": "code",
   "execution_count": 27,
   "id": "36f8f5a8-ff60-43a8-b29d-8ce2f0c1839b",
   "metadata": {},
   "outputs": [],
   "source": [
    "# Applying standardization to the models\n",
    "from sklearn.preprocessing import StandardScaler\n",
    "scaler=StandardScaler()"
   ]
  },
  {
   "cell_type": "code",
   "execution_count": 37,
   "id": "de54557e-3eb9-466e-b45a-920e848806a2",
   "metadata": {},
   "outputs": [],
   "source": [
    "X_train = scaler.fit_transform(X_train)\n",
    "X_test = scaler.transform(X_test)"
   ]
  },
  {
   "cell_type": "code",
   "execution_count": 38,
   "id": "e8ec497e",
   "metadata": {},
   "outputs": [],
   "source": [
    "import pickle\n",
    "pickle.dump(scaler, open('scaling.pkl', 'wb'))"
   ]
  },
  {
   "cell_type": "code",
   "execution_count": 39,
   "id": "3732eb51-7bf1-4de2-b96d-370fee28966a",
   "metadata": {},
   "outputs": [
    {
     "data": {
      "text/plain": [
       "array([[-0.30624319,  0.5888015 ,  1.42215805, ...,  1.31368478,\n",
       "         2.38815978,  1.61029956],\n",
       "       [-1.17575686,  0.5888015 ,  1.42215805, ...,  0.75912411,\n",
       "         1.46408953,  0.77886893],\n",
       "       [-1.39313528,  0.5888015 ,  1.42215805, ..., -0.62727757,\n",
       "        -0.69207439, -0.6068488 ],\n",
       "       ...,\n",
       "       [ 1.32409495,  0.5888015 , -0.47750034, ...,  0.75912411,\n",
       "        -0.69207439, -1.16113589],\n",
       "       [-0.30624319,  0.5888015 ,  1.42215805, ...,  0.75912411,\n",
       "        -0.38405098,  0.77886893],\n",
       "       [-0.4149324 ,  0.5888015 ,  1.42215805, ..., -1.18183824,\n",
       "        -0.69207439, -1.16113589]])"
      ]
     },
     "execution_count": 39,
     "metadata": {},
     "output_type": "execute_result"
    }
   ],
   "source": [
    "X_train"
   ]
  },
  {
   "cell_type": "markdown",
   "id": "3f50039e-41f5-4be1-a3c4-ea02ed41ef7f",
   "metadata": {},
   "source": [
    "### Logistic Regression"
   ]
  },
  {
   "cell_type": "code",
   "execution_count": 40,
   "id": "2a7dcef0-3096-4571-952d-9f33beee24d1",
   "metadata": {},
   "outputs": [],
   "source": [
    "from sklearn.linear_model import LogisticRegression\n",
    "from sklearn.metrics import confusion_matrix, classification_report"
   ]
  },
  {
   "cell_type": "code",
   "execution_count": 41,
   "id": "db573b62-5b0c-4082-8d15-c1b93ae70148",
   "metadata": {},
   "outputs": [
    {
     "name": "stdout",
     "output_type": "stream",
     "text": [
      "confusion matrix is:\n",
      " [[297   9]\n",
      " [ 44  18]]\n",
      "classification report is:\n",
      "               precision    recall  f1-score   support\n",
      "\n",
      "           0       0.87      0.97      0.92       306\n",
      "           1       0.67      0.29      0.40        62\n",
      "\n",
      "    accuracy                           0.86       368\n",
      "   macro avg       0.77      0.63      0.66       368\n",
      "weighted avg       0.84      0.86      0.83       368\n",
      "\n"
     ]
    }
   ],
   "source": [
    "logReg = LogisticRegression()\n",
    "logReg.fit(X_train, y_train)\n",
    "y_pred = logReg.predict(X_test)\n",
    "        \n",
    "print('confusion matrix is:\\n', confusion_matrix(y_test, y_pred))\n",
    "print('classification report is:\\n', classification_report(y_test, y_pred))"
   ]
  },
  {
   "cell_type": "code",
   "execution_count": null,
   "id": "eb3250c9-cb74-4c0e-8853-b5cc9627aac9",
   "metadata": {},
   "outputs": [],
   "source": []
  },
  {
   "cell_type": "code",
   "execution_count": 32,
   "id": "8dc79cfe-f862-437b-8a80-c1aa5fa44207",
   "metadata": {},
   "outputs": [
    {
     "name": "stdout",
     "output_type": "stream",
     "text": [
      "[[-0.331563   -0.02165199  0.39474913  0.1827825   0.01439015  0.18948152\n",
      "  -0.50154222  0.12864883 -0.35541602 -0.297152   -0.21357824 -0.41623368\n",
      "   0.36343982 -0.23825512  0.32546044  0.80446427 -0.09327604  0.04192564\n",
      "  -0.16208335 -0.27649411 -0.27953636 -0.20395877  0.44237395 -0.48351996\n",
      "   0.51865138 -0.50541467]]\n"
     ]
    }
   ],
   "source": [
    "# Displaying the coefficient of the model\n",
    "print(logReg.coef_)"
   ]
  },
  {
   "cell_type": "code",
   "execution_count": null,
   "id": "f553f47f-2d04-4374-afb7-2992b516dbab",
   "metadata": {},
   "outputs": [],
   "source": []
  },
  {
   "cell_type": "code",
   "execution_count": 33,
   "id": "c5c9a233-b6b3-4155-b7c1-ced25cc5eaaa",
   "metadata": {},
   "outputs": [
    {
     "data": {
      "text/plain": [
       "array([0, 0, 0, 0, 0, 0, 0, 0, 0, 0, 0, 0, 0, 0, 0, 0, 1, 0, 0, 0, 0, 0,\n",
       "       0, 0, 0, 0, 0, 0, 0, 0, 0, 0, 0, 0, 0, 0, 0, 0, 0, 0, 0, 0, 0, 0,\n",
       "       0, 0, 0, 1, 0, 0, 0, 0, 0, 0, 0, 0, 0, 0, 0, 0, 0, 0, 0, 0, 0, 0,\n",
       "       0, 0, 0, 0, 0, 0, 0, 1, 0, 0, 0, 0, 0, 0, 0, 0, 0, 0, 0, 0, 0, 1,\n",
       "       0, 0, 0, 0, 0, 0, 0, 0, 0, 0, 0, 0, 0, 0, 0, 0, 0, 0, 0, 0, 0, 0,\n",
       "       0, 1, 0, 0, 0, 0, 0, 0, 0, 0, 0, 0, 0, 0, 0, 0, 0, 0, 1, 0, 0, 0,\n",
       "       0, 0, 1, 0, 0, 0, 0, 0, 0, 0, 0, 0, 0, 0, 0, 0, 1, 0, 0, 0, 0, 0,\n",
       "       0, 0, 0, 0, 0, 0, 0, 0, 0, 0, 0, 0, 0, 0, 0, 0, 0, 0, 0, 0, 0, 0,\n",
       "       0, 0, 0, 0, 0, 0, 0, 0, 0, 0, 0, 0, 1, 0, 0, 0, 0, 1, 0, 1, 0, 0,\n",
       "       0, 1, 0, 0, 0, 0, 1, 0, 0, 0, 0, 0, 0, 0, 0, 0, 0, 0, 0, 0, 0, 0,\n",
       "       0, 0, 0, 1, 0, 0, 0, 0, 0, 0, 0, 0, 0, 0, 0, 0, 0, 0, 0, 0, 0, 0,\n",
       "       0, 0, 1, 0, 1, 0, 0, 0, 1, 0, 0, 0, 0, 0, 0, 0, 0, 0, 0, 0, 0, 0,\n",
       "       0, 0, 0, 0, 0, 0, 0, 0, 0, 0, 1, 0, 0, 0, 0, 0, 0, 0, 0, 0, 0, 0,\n",
       "       0, 0, 0, 0, 0, 0, 0, 1, 0, 0, 0, 0, 0, 0, 0, 0, 1, 0, 1, 0, 0, 1,\n",
       "       1, 0, 0, 0, 0, 0, 0, 0, 0, 0, 1, 0, 0, 0, 0, 0, 0, 0, 0, 1, 0, 0,\n",
       "       0, 0, 0, 1, 0, 0, 0, 0, 0, 0, 0, 0, 0, 0, 0, 0, 0, 0, 0, 0, 0, 0,\n",
       "       0, 0, 0, 1, 0, 0, 0, 0, 0, 0, 0, 0, 0, 0, 0, 0])"
      ]
     },
     "execution_count": 33,
     "metadata": {},
     "output_type": "execute_result"
    }
   ],
   "source": [
    "y_pred"
   ]
  },
  {
   "cell_type": "code",
   "execution_count": null,
   "id": "61dd279c-7ee4-4bc9-b392-5bc939372af9",
   "metadata": {},
   "outputs": [],
   "source": []
  },
  {
   "cell_type": "code",
   "execution_count": 34,
   "id": "8fa9726a-4dce-4b55-926a-e51d8e4ddfcb",
   "metadata": {},
   "outputs": [
    {
     "name": "stdout",
     "output_type": "stream",
     "text": [
      "0.14402173913043478\n",
      "0.14402173913043478\n",
      "0.3795019619586107\n"
     ]
    }
   ],
   "source": [
    "from sklearn.metrics import mean_squared_error\n",
    "from sklearn.metrics import mean_absolute_error\n",
    "\n",
    "print(mean_absolute_error(y_test, y_pred))\n",
    "print(mean_squared_error(y_test, y_pred))\n",
    "print(np.sqrt(mean_squared_error(y_test, y_pred)))"
   ]
  },
  {
   "cell_type": "code",
   "execution_count": null,
   "id": "c9100c57-11f6-40a0-9a1b-8d8fc9ca0418",
   "metadata": {},
   "outputs": [],
   "source": []
  },
  {
   "cell_type": "markdown",
   "id": "c946d3e2-7f73-409c-b6e9-f78ebe6a95b9",
   "metadata": {},
   "source": [
    "## Pickling the model for Deployment"
   ]
  },
  {
   "cell_type": "code",
   "execution_count": 35,
   "id": "b73d2cba-2069-4472-908a-5e2283fe8848",
   "metadata": {},
   "outputs": [],
   "source": [
    "import pickle"
   ]
  },
  {
   "cell_type": "code",
   "execution_count": 36,
   "id": "97288ebb-66d3-4999-a925-0d50bbec91d5",
   "metadata": {},
   "outputs": [],
   "source": [
    "pickle.dump(logReg, open('logisticmodel.pkl', 'wb'))"
   ]
  },
  {
   "cell_type": "code",
   "execution_count": null,
   "id": "b7c1c967-0da9-4399-b7d9-127dfe01067f",
   "metadata": {},
   "outputs": [],
   "source": []
  },
  {
   "cell_type": "code",
   "execution_count": null,
   "id": "90c01138-a634-4bb2-a730-4b9d957b40b0",
   "metadata": {},
   "outputs": [],
   "source": []
  },
  {
   "cell_type": "code",
   "execution_count": null,
   "id": "73a1b958-38fc-4174-8894-38920e525435",
   "metadata": {},
   "outputs": [],
   "source": []
  }
 ],
 "metadata": {
  "kernelspec": {
   "display_name": "base",
   "language": "python",
   "name": "python3"
  },
  "language_info": {
   "codemirror_mode": {
    "name": "ipython",
    "version": 3
   },
   "file_extension": ".py",
   "mimetype": "text/x-python",
   "name": "python",
   "nbconvert_exporter": "python",
   "pygments_lexer": "ipython3",
   "version": "3.12.4"
  }
 },
 "nbformat": 4,
 "nbformat_minor": 5
}
